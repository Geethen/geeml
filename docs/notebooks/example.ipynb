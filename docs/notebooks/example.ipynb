{
 "cells": [
  {
   "cell_type": "markdown",
   "metadata": {},
   "source": [
    "# Example Notebook"
   ]
  },
  {
   "cell_type": "markdown",
   "metadata": {},
   "source": [
    "### Basic usuage"
   ]
  },
  {
   "cell_type": "code",
   "execution_count": 2,
   "metadata": {},
   "outputs": [
    {
     "ename": "ModuleNotFoundError",
     "evalue": "No module named '_curses'",
     "output_type": "error",
     "traceback": [
      "\u001b[1;31m---------------------------------------------------------------------------\u001b[0m",
      "\u001b[1;31mModuleNotFoundError\u001b[0m                       Traceback (most recent call last)",
      "\u001b[1;32m~\\AppData\\Local\\Temp/ipykernel_13700/2985164896.py\u001b[0m in \u001b[0;36m<cell line: 1>\u001b[1;34m()\u001b[0m\n\u001b[1;32m----> 1\u001b[1;33m \u001b[1;32mimport\u001b[0m \u001b[0mee\u001b[0m\u001b[1;33m\u001b[0m\u001b[1;33m\u001b[0m\u001b[0m\n\u001b[0m",
      "\u001b[1;32m~\\AppData\\Roaming\\Python\\Python39\\site-packages\\ee\\__init__.py\u001b[0m in \u001b[0;36m<module>\u001b[1;34m\u001b[0m\n\u001b[1;32m----> 1\u001b[1;33m \u001b[1;32mfrom\u001b[0m \u001b[1;33m.\u001b[0m\u001b[0mmain\u001b[0m \u001b[1;32mimport\u001b[0m \u001b[0mmain\u001b[0m\u001b[1;33m\u001b[0m\u001b[1;33m\u001b[0m\u001b[0m\n\u001b[0m",
      "\u001b[1;32m~\\AppData\\Roaming\\Python\\Python39\\site-packages\\ee\\main.py\u001b[0m in \u001b[0;36m<module>\u001b[1;34m\u001b[0m\n\u001b[0;32m      3\u001b[0m \u001b[1;32mimport\u001b[0m \u001b[0msubprocess\u001b[0m\u001b[1;33m\u001b[0m\u001b[1;33m\u001b[0m\u001b[0m\n\u001b[0;32m      4\u001b[0m \u001b[1;32mimport\u001b[0m \u001b[0msys\u001b[0m\u001b[1;33m\u001b[0m\u001b[1;33m\u001b[0m\u001b[0m\n\u001b[1;32m----> 5\u001b[1;33m \u001b[1;32mimport\u001b[0m \u001b[0mblessings\u001b[0m\u001b[1;33m\u001b[0m\u001b[1;33m\u001b[0m\u001b[0m\n\u001b[0m\u001b[0;32m      6\u001b[0m \u001b[1;32mimport\u001b[0m \u001b[0mre\u001b[0m\u001b[1;33m\u001b[0m\u001b[1;33m\u001b[0m\u001b[0m\n\u001b[0;32m      7\u001b[0m \u001b[1;32mimport\u001b[0m \u001b[0mos\u001b[0m\u001b[1;33m\u001b[0m\u001b[1;33m\u001b[0m\u001b[0m\n",
      "\u001b[1;32m~\\AppData\\Roaming\\Python\\Python39\\site-packages\\blessings\\__init__.py\u001b[0m in \u001b[0;36m<module>\u001b[1;34m\u001b[0m\n\u001b[0;32m      3\u001b[0m \u001b[1;33m\u001b[0m\u001b[0m\n\u001b[0;32m      4\u001b[0m \u001b[1;32mfrom\u001b[0m \u001b[0mcontextlib\u001b[0m \u001b[1;32mimport\u001b[0m \u001b[0mcontextmanager\u001b[0m\u001b[1;33m\u001b[0m\u001b[1;33m\u001b[0m\u001b[0m\n\u001b[1;32m----> 5\u001b[1;33m \u001b[1;32mimport\u001b[0m \u001b[0mcurses\u001b[0m\u001b[1;33m\u001b[0m\u001b[1;33m\u001b[0m\u001b[0m\n\u001b[0m\u001b[0;32m      6\u001b[0m \u001b[1;32mfrom\u001b[0m \u001b[0mcurses\u001b[0m \u001b[1;32mimport\u001b[0m \u001b[0msetupterm\u001b[0m\u001b[1;33m,\u001b[0m \u001b[0mtigetnum\u001b[0m\u001b[1;33m,\u001b[0m \u001b[0mtigetstr\u001b[0m\u001b[1;33m,\u001b[0m \u001b[0mtparm\u001b[0m\u001b[1;33m\u001b[0m\u001b[1;33m\u001b[0m\u001b[0m\n\u001b[0;32m      7\u001b[0m \u001b[1;32mfrom\u001b[0m \u001b[0mfcntl\u001b[0m \u001b[1;32mimport\u001b[0m \u001b[0mioctl\u001b[0m\u001b[1;33m\u001b[0m\u001b[1;33m\u001b[0m\u001b[0m\n",
      "\u001b[1;32mD:\\ProgramData\\envs\\main\\lib\\curses\\__init__.py\u001b[0m in \u001b[0;36m<module>\u001b[1;34m\u001b[0m\n\u001b[0;32m     11\u001b[0m \"\"\"\n\u001b[0;32m     12\u001b[0m \u001b[1;33m\u001b[0m\u001b[0m\n\u001b[1;32m---> 13\u001b[1;33m \u001b[1;32mfrom\u001b[0m \u001b[0m_curses\u001b[0m \u001b[1;32mimport\u001b[0m \u001b[1;33m*\u001b[0m\u001b[1;33m\u001b[0m\u001b[1;33m\u001b[0m\u001b[0m\n\u001b[0m\u001b[0;32m     14\u001b[0m \u001b[1;32mimport\u001b[0m \u001b[0mos\u001b[0m \u001b[1;32mas\u001b[0m \u001b[0m_os\u001b[0m\u001b[1;33m\u001b[0m\u001b[1;33m\u001b[0m\u001b[0m\n\u001b[0;32m     15\u001b[0m \u001b[1;32mimport\u001b[0m \u001b[0msys\u001b[0m \u001b[1;32mas\u001b[0m \u001b[0m_sys\u001b[0m\u001b[1;33m\u001b[0m\u001b[1;33m\u001b[0m\u001b[0m\n",
      "\u001b[1;31mModuleNotFoundError\u001b[0m: No module named '_curses'"
     ]
    }
   ],
   "source": [
    "import ee"
   ]
  },
  {
   "cell_type": "code",
   "execution_count": 1,
   "metadata": {},
   "outputs": [
    {
     "ename": "ModuleNotFoundError",
     "evalue": "No module named '_curses'",
     "output_type": "error",
     "traceback": [
      "\u001b[1;31m---------------------------------------------------------------------------\u001b[0m",
      "\u001b[1;31mModuleNotFoundError\u001b[0m                       Traceback (most recent call last)",
      "\u001b[1;32m~\\AppData\\Local\\Temp/ipykernel_21608/2209199623.py\u001b[0m in \u001b[0;36m<cell line: 2>\u001b[1;34m()\u001b[0m\n\u001b[0;32m      1\u001b[0m \u001b[1;31m#import packages\u001b[0m\u001b[1;33m\u001b[0m\u001b[1;33m\u001b[0m\u001b[0m\n\u001b[1;32m----> 2\u001b[1;33m \u001b[1;32mfrom\u001b[0m \u001b[0mgeeml\u001b[0m\u001b[1;33m.\u001b[0m\u001b[0mutils\u001b[0m \u001b[1;32mimport\u001b[0m \u001b[0mgetCountry\u001b[0m\u001b[1;33m,\u001b[0m \u001b[0mcreateGrid\u001b[0m\u001b[1;33m\u001b[0m\u001b[1;33m\u001b[0m\u001b[0m\n\u001b[0m\u001b[0;32m      3\u001b[0m \u001b[1;32mfrom\u001b[0m \u001b[0mgeeml\u001b[0m\u001b[1;33m.\u001b[0m\u001b[0mextract\u001b[0m \u001b[1;32mimport\u001b[0m \u001b[0mextract\u001b[0m\u001b[1;33m\u001b[0m\u001b[1;33m\u001b[0m\u001b[0m\n",
      "\u001b[1;32md:\\geeml\\geeml\\utils.py\u001b[0m in \u001b[0;36m<module>\u001b[1;34m\u001b[0m\n\u001b[1;32m----> 1\u001b[1;33m \u001b[1;32mimport\u001b[0m \u001b[0mee\u001b[0m\u001b[1;33m\u001b[0m\u001b[1;33m\u001b[0m\u001b[0m\n\u001b[0m\u001b[0;32m      2\u001b[0m \u001b[1;32mimport\u001b[0m \u001b[0muuid\u001b[0m\u001b[1;33m\u001b[0m\u001b[1;33m\u001b[0m\u001b[0m\n\u001b[0;32m      3\u001b[0m \u001b[1;32mfrom\u001b[0m \u001b[0mIPython\u001b[0m\u001b[1;33m.\u001b[0m\u001b[0mcore\u001b[0m\u001b[1;33m.\u001b[0m\u001b[0mdisplay\u001b[0m \u001b[1;32mimport\u001b[0m \u001b[0mdisplay\u001b[0m\u001b[1;33m,\u001b[0m \u001b[0mHTML\u001b[0m\u001b[1;33m\u001b[0m\u001b[1;33m\u001b[0m\u001b[0m\n\u001b[0;32m      4\u001b[0m \u001b[1;33m\u001b[0m\u001b[0m\n\u001b[0;32m      5\u001b[0m \u001b[1;32mimport\u001b[0m \u001b[0mjson\u001b[0m\u001b[1;33m\u001b[0m\u001b[1;33m\u001b[0m\u001b[0m\n",
      "\u001b[1;32m~\\AppData\\Roaming\\Python\\Python39\\site-packages\\ee\\__init__.py\u001b[0m in \u001b[0;36m<module>\u001b[1;34m\u001b[0m\n\u001b[1;32m----> 1\u001b[1;33m \u001b[1;32mfrom\u001b[0m \u001b[1;33m.\u001b[0m\u001b[0mmain\u001b[0m \u001b[1;32mimport\u001b[0m \u001b[0mmain\u001b[0m\u001b[1;33m\u001b[0m\u001b[1;33m\u001b[0m\u001b[0m\n\u001b[0m",
      "\u001b[1;32m~\\AppData\\Roaming\\Python\\Python39\\site-packages\\ee\\main.py\u001b[0m in \u001b[0;36m<module>\u001b[1;34m\u001b[0m\n\u001b[0;32m      3\u001b[0m \u001b[1;32mimport\u001b[0m \u001b[0msubprocess\u001b[0m\u001b[1;33m\u001b[0m\u001b[1;33m\u001b[0m\u001b[0m\n\u001b[0;32m      4\u001b[0m \u001b[1;32mimport\u001b[0m \u001b[0msys\u001b[0m\u001b[1;33m\u001b[0m\u001b[1;33m\u001b[0m\u001b[0m\n\u001b[1;32m----> 5\u001b[1;33m \u001b[1;32mimport\u001b[0m \u001b[0mblessings\u001b[0m\u001b[1;33m\u001b[0m\u001b[1;33m\u001b[0m\u001b[0m\n\u001b[0m\u001b[0;32m      6\u001b[0m \u001b[1;32mimport\u001b[0m \u001b[0mre\u001b[0m\u001b[1;33m\u001b[0m\u001b[1;33m\u001b[0m\u001b[0m\n\u001b[0;32m      7\u001b[0m \u001b[1;32mimport\u001b[0m \u001b[0mos\u001b[0m\u001b[1;33m\u001b[0m\u001b[1;33m\u001b[0m\u001b[0m\n",
      "\u001b[1;32m~\\AppData\\Roaming\\Python\\Python39\\site-packages\\blessings\\__init__.py\u001b[0m in \u001b[0;36m<module>\u001b[1;34m\u001b[0m\n\u001b[0;32m      3\u001b[0m \u001b[1;33m\u001b[0m\u001b[0m\n\u001b[0;32m      4\u001b[0m \u001b[1;32mfrom\u001b[0m \u001b[0mcontextlib\u001b[0m \u001b[1;32mimport\u001b[0m \u001b[0mcontextmanager\u001b[0m\u001b[1;33m\u001b[0m\u001b[1;33m\u001b[0m\u001b[0m\n\u001b[1;32m----> 5\u001b[1;33m \u001b[1;32mimport\u001b[0m \u001b[0mcurses\u001b[0m\u001b[1;33m\u001b[0m\u001b[1;33m\u001b[0m\u001b[0m\n\u001b[0m\u001b[0;32m      6\u001b[0m \u001b[1;32mfrom\u001b[0m \u001b[0mcurses\u001b[0m \u001b[1;32mimport\u001b[0m \u001b[0msetupterm\u001b[0m\u001b[1;33m,\u001b[0m \u001b[0mtigetnum\u001b[0m\u001b[1;33m,\u001b[0m \u001b[0mtigetstr\u001b[0m\u001b[1;33m,\u001b[0m \u001b[0mtparm\u001b[0m\u001b[1;33m\u001b[0m\u001b[1;33m\u001b[0m\u001b[0m\n\u001b[0;32m      7\u001b[0m \u001b[1;32mfrom\u001b[0m \u001b[0mfcntl\u001b[0m \u001b[1;32mimport\u001b[0m \u001b[0mioctl\u001b[0m\u001b[1;33m\u001b[0m\u001b[1;33m\u001b[0m\u001b[0m\n",
      "\u001b[1;32mD:\\ProgramData\\envs\\main\\lib\\curses\\__init__.py\u001b[0m in \u001b[0;36m<module>\u001b[1;34m\u001b[0m\n\u001b[0;32m     11\u001b[0m \"\"\"\n\u001b[0;32m     12\u001b[0m \u001b[1;33m\u001b[0m\u001b[0m\n\u001b[1;32m---> 13\u001b[1;33m \u001b[1;32mfrom\u001b[0m \u001b[0m_curses\u001b[0m \u001b[1;32mimport\u001b[0m \u001b[1;33m*\u001b[0m\u001b[1;33m\u001b[0m\u001b[1;33m\u001b[0m\u001b[0m\n\u001b[0m\u001b[0;32m     14\u001b[0m \u001b[1;32mimport\u001b[0m \u001b[0mos\u001b[0m \u001b[1;32mas\u001b[0m \u001b[0m_os\u001b[0m\u001b[1;33m\u001b[0m\u001b[1;33m\u001b[0m\u001b[0m\n\u001b[0;32m     15\u001b[0m \u001b[1;32mimport\u001b[0m \u001b[0msys\u001b[0m \u001b[1;32mas\u001b[0m \u001b[0m_sys\u001b[0m\u001b[1;33m\u001b[0m\u001b[1;33m\u001b[0m\u001b[0m\n",
      "\u001b[1;31mModuleNotFoundError\u001b[0m: No module named '_curses'"
     ]
    }
   ],
   "source": [
    "#import packages\n",
    "from geeml.utils import getCountry, createGrid\n",
    "from geeml.extract import extract"
   ]
  },
  {
   "cell_type": "code",
   "execution_count": 2,
   "metadata": {},
   "outputs": [],
   "source": [
    "# Authenticate GEE\n",
    "# ee.Authenticate()\n",
    "# Initialize GEE with high-volume end-point\n",
    "ee.Initialize(opt_url='https://earthengine-highvolume.googleapis.com')"
   ]
  },
  {
   "cell_type": "code",
   "execution_count": 9,
   "metadata": {},
   "outputs": [],
   "source": [
    "#import datasets from GEE\n",
    "nasadem = ee.Image(\"NASA/NASADEM_HGT/001\")\n",
    "#A point in Kenya\n",
    "poi = ee.Geometry.Point([37.857884,-0.002197])\n",
    "kenya = getCountry(poi)\n",
    "\n",
    "# Prepare for data extraction\n",
    "# Grid to serve as workers during data extraction\n",
    "grid, items = createGrid(patchSize = 50000, aoi= kenya, vect=False)\n",
    "# Download directory\n",
    "dd = '/content/drive/MyDrive/geeml_example'"
   ]
  },
  {
   "cell_type": "code",
   "execution_count": 8,
   "metadata": {
    "tags": []
   },
   "outputs": [
  "cells": [
    {
      "cell_type": "markdown",
      "metadata": {
        "id": "view-in-github",
        "colab_type": "text"
      },
      "source": [
        "<a href=\"https://colab.research.google.com/github/Geethen/geeml/blob/master/docs/notebooks/example.ipynb\" target=\"_parent\"><img src=\"https://colab.research.google.com/assets/colab-badge.svg\" alt=\"Open In Colab\"/></a>"
      ]
    },
    {
      "cell_type": "markdown",
      "metadata": {
        "id": "8bUjuXY8MpYV"
      },
      "source": [
        "# Example Notebook"
      ]
    },
    {
      "cell_type": "code",
      "source": [
        "import ee"
      ],
      "metadata": {
        "id": "SZNd8PnyzSSs"
      },
      "execution_count": 1,
      "outputs": []
    },
    {
      "cell_type": "code",
      "source": [
        "!pip install git+https://github.com/Geethen/geeml.git -U"
      ],
      "metadata": {
        "id": "Z126_KDXSx2l"
      },
      "execution_count": null,
      "outputs": []
    },
    {
      "cell_type": "markdown",
      "metadata": {
        "id": "GD06B1XtMpYX"
      },
      "source": [
        "### Basic usuage"
      ]
    },
    {
      "cell_type": "code",
      "execution_count": 3,
      "metadata": {
        "id": "dWQRbT5oMpYZ",
        "outputId": "fec3c8fa-35ba-4a90-fa63-dd7b29a12339",
        "colab": {
          "base_uri": "https://localhost:8080/",
          "height": 148
        }
      },
      "outputs": [
        {
          "output_type": "error",
          "ename": "IndentationError",
          "evalue": "ignored",
          "traceback": [
            "\u001b[0;36m  File \u001b[0;32m\"/usr/local/lib/python3.7/dist-packages/geeml/extract.py\"\u001b[0;36m, line \u001b[0;32m54\u001b[0m\n\u001b[0;31m    \"\"\"\u001b[0m\n\u001b[0m       \n^\u001b[0m\n\u001b[0;31mIndentationError\u001b[0m\u001b[0;31m:\u001b[0m expected an indented block\n"
          ]
        }
      ],
      "source": [
        "#import packages\n",
        "import ee\n",
        "from geeml.utils import getCountry, createGrid\n",
        "from geeml.extract import extract"
      ]
    },
    {
      "cell_type": "code",
      "execution_count": 5,
      "metadata": {
        "id": "QXye7vjcMpYc",
        "outputId": "68fae6b9-62d6-4fd4-c54f-ab359179b6a2",
        "colab": {
          "base_uri": "https://localhost:8080/"
        }
      },
      "outputs": [
        {
          "output_type": "stream",
          "name": "stdout",
          "text": [
            "To authorize access needed by Earth Engine, open the following URL in a web browser and follow the instructions. If the web browser does not start automatically, please manually browse the URL below.\n",
            "\n",
            "    https://code.earthengine.google.com/client-auth?scopes=https%3A//www.googleapis.com/auth/earthengine%20https%3A//www.googleapis.com/auth/devstorage.full_control&request_id=yyiWQz56V62uaOSLJMdUV0pSKt_VwoFVUSQa8jE7Maw&tc=9E9QZA_9ZxMO5ZsiWZboZxAC2TvOjomgvuBDOec06tQ&cc=sPjWItHFaZfnSs6z2e1G9tWf6l3bHQBi41Bb-YolHJY\n",
            "\n",
            "The authorization workflow will generate a code, which you should paste in the box below. \n",
            "Enter verification code: 4/1AX4XfWj5Zp1cdNmBd6eYrwBp0iSrqPrK5Cmhs70YSsYd_sMdmwPIeCUL32Q\n",
            "\n",
            "Successfully saved authorization token.\n"
          ]
        }
      ],
      "source": [
        "# Authenticate GEE\n",
        "ee.Authenticate()\n",
        "# Initialize GEE with high-volume end-point\n",
        "ee.Initialize(opt_url='https://earthengine-highvolume.googleapis.com')"
      ]
    },
    {
      "cell_type": "code",
      "execution_count": 12,
      "metadata": {
        "id": "-LFZSwI0MpYd"
      },
      "outputs": [],
      "source": [
        "#import datasets from GEE\n",
        "nasadem = ee.Image(\"NASA/NASADEM_HGT/001\")\n",
        "#A point in Kenya\n",
        "poi = ee.Geometry.Point([37.857884,-0.002197])\n",
        "kenya = getCountry(poi)\n",
        "\n",
        "# Prepare for data extraction\n",
        "# Grid to serve as workers during data extraction\n",
        "grid, items = createGrid(patchSize = 50000, aoi= kenya, vect=False)\n",
        "# Download directory\n",
        "dd = '/content/drive/MyDrive/GEEML/'"
      ]
    },
    {
      "cell_type": "code",
      "execution_count": 7,
      "metadata": {
        "tags": [],
        "id": "_EGdGl0PMpYe",
        "outputId": "450c1cc3-8369-488d-d379-689f6075ba01",
        "colab": {
          "base_uri": "https://localhost:8080/",
          "height": 621,
          "referenced_widgets": [
            "51adc61ecb6046f9b64a808eac24411c",
            "2c20cc2bc0474d7db568e3e33216c695",
            "26504ee006984a68a374204e2d105d93",
            "aca8d971abdf41f1b50982fe147d4494",
            "3b4c8c7754b045e29c3434276e85a770",
            "865f1d95df5d41f1aa6d3127d858209c",
            "a42b7feb8cf74cc286b0fabb5884ad0e",
            "c582033886704fd6ad082621955167c0",
            "f37887670d494560b13c0f1411a630fd",
            "8855e02feb6b4f409399543b12a34f75",
            "4d65de18c4064f489fc9b29e75cff6ef",
            "35481332ae7c42b798e497ef5d7862fa",
            "3e38580aa0bb4ee89c468077c45cab22",
            "e49d859dc9f44439b1f9d8a1f975e5b3",
            "a1beb93a3ac24280ad8e7d1f6bc5ec5b",
            "940d15a863c347409e0a854477510f61",
            "3d16a867c1c94eada885e702c66fcc90",
            "2ce2e05b8229447aa35c05d066a553ae",
            "f770905240a242f99bec514a2e137e8a",
            "3010950f46224908bacdc90a52d53f66",
            "5aa88c6adf034298b3da9795bc4bd5aa",
            "2cabeb5b40b246d4b5fa34188fec18dd",
            "37272ddc887a405b8884f01185af0538",
            "56216d71fc6d41df85d53467d94cf55f",
            "e5a92516c0054d20ab2f0a448113e3f1",
            "80f7c346795044b7ac85cdce4265ba27"
          ]
        }
      },
      "outputs": [
        {
          "output_type": "display_data",
          "data": {
            "text/plain": [
              "Map(center=[20, 0], controls=(WidgetControl(options=['position', 'transparent_bg'], widget=HBox(children=(Togg…"
            ],
            "application/vnd.jupyter.widget-view+json": {
              "version_major": 2,
              "version_minor": 0,
              "model_id": "51adc61ecb6046f9b64a808eac24411c"
            }
          },
          "metadata": {
            "application/vnd.jupyter.widget-view+json": {
              "colab": {
                "custom_widget_manager": {
                  "url": "https://ssl.gstatic.com/colaboratory-static/widgets/colab-cdn-widget-manager/a8874ba6619b6106/manager.min.js"
                }
              }
            }
          }
        }
      ],
      "source": [
        "import geemap\n",
        "\n",
        "Map = geemap.Map()\n",
        "Map.addLayer(grid.randomVisualizer())\n",
        "Map.centerObject(kenya)\n",
        "Map"
      ]
    },
    {
      "cell_type": "code",
      "source": [
        "import os\n",
        "testExtract = extract(covariates=nasadem, grid = grid, aoi = kenya, scale= 5000, dd= dd, workers=items)"
      ],
      "metadata": {
        "id": "IsxZlwlNhMTE"
      },
      "execution_count": 26,
      "outputs": []
    },
    {
      "cell_type": "code",
      "source": [
        "import sys\n",
        "for id, fid in enumerate(testExtract.workers[0:5]):\n",
        "  testExtract.extractAoi(id, fid)"
      ],
      "metadata": {
        "id": "USZ96k29iWcF",
        "outputId": "64fc8724-b969-4264-e565-00bde7d8937f",
        "colab": {
          "base_uri": "https://localhost:8080/"
        }
      },
      "execution_count": 28,
      "outputs": [
        {
          "output_type": "stream",
          "name": "stdout",
          "text": [
            "Generating URL ...\n",
            "Downloading data from https://earthengine-highvolume.googleapis.com/v1alpha/projects/earthengine-legacy/thumbnails/bc230af6b376b45fe0433553ef9f9380-bbc383f5e70d6daf29cfb63539f4e868:getPixels\n",
            "Please wait ...\n",
            "Data downloaded to /content/drive/MyDrive/GEEML/X_102869.tif\n",
            "Generating URL ...\n",
            "Downloading data from https://earthengine-highvolume.googleapis.com/v1alpha/projects/earthengine-legacy/thumbnails/3cfb0b337fe9ac5434e420e3705647bd-ee1fa834d65e58987b57589361b7574f:getPixels\n",
            "Please wait ...\n",
            "Data downloaded to /content/drive/MyDrive/GEEML/X_104250.tif\n",
            "Generating URL ...\n",
            "Downloading data from https://earthengine-highvolume.googleapis.com/v1alpha/projects/earthengine-legacy/thumbnails/740c436bb46359a3195f7916c6b37b28-820d9f2a454228ec4e06c24ca2146451:getPixels\n",
            "Please wait ...\n",
            "Data downloaded to /content/drive/MyDrive/GEEML/X_10646.tif\n",
            "Generating URL ...\n",
            "Downloading data from https://earthengine-highvolume.googleapis.com/v1alpha/projects/earthengine-legacy/thumbnails/b8e7ad32fdcaa82eabf5b3900a4f365d-a9e9bd66d40b71493c0e728825e637bb:getPixels\n",
            "Please wait ...\n",
            "Data downloaded to /content/drive/MyDrive/GEEML/X_112680.tif\n",
            "Generating URL ...\n",
            "Downloading data from https://earthengine-highvolume.googleapis.com/v1alpha/projects/earthengine-legacy/thumbnails/b5e9f4b3bbd8b1790becf0d392ee43a1-d15d25de9ad1cc8b9226e66c68bec594:getPixels\n",
            "Please wait ...\n",
            "Data downloaded to /content/drive/MyDrive/GEEML/X_113921.tif\n"
          ]
        }
      ]
    },
    {
      "cell_type": "code",
      "source": [
        "pExtract(testExtract.extractAoi, testExtract.workers[0:5])"
      ],
      "metadata": {
        "id": "QE3m5s-t99YA",
        "outputId": "ea6648aa-9e9e-499b-8132-03efa0bb2a27",
        "colab": {
          "base_uri": "https://localhost:8080/"
        }
      },
      "execution_count": 38,
      "outputs": [
        {
          "output_type": "stream",
          "name": "stdout",
          "text": [
            "Generating URL ...\n",
            "Generating URL ...\n",
            "Generating URL ...\n",
            "Generating URL ...\n",
            "Generating URL ...\n",
            "Downloading data from https://earthengine-highvolume.googleapis.com/v1alpha/projects/earthengine-legacy/thumbnails/bc230af6b376b45fe0433553ef9f9380-7fb3b262347dd85e65c0476467e5146f:getPixels\n",
            "Please wait ...\n",
            "Downloading data from https://earthengine-highvolume.googleapis.com/v1alpha/projects/earthengine-legacy/thumbnails/b5e9f4b3bbd8b1790becf0d392ee43a1-5831ef1a62d8dc24d0d902006175c7eb:getPixels\n",
            "Please wait ...\n",
            "Data downloaded to /content/drive/MyDrive/GEEML/X_102869.tif\n",
            "Downloading data from https://earthengine-highvolume.googleapis.com/v1alpha/projects/earthengine-legacy/thumbnails/3cfb0b337fe9ac5434e420e3705647bd-971b0921e9d5f9d0c17bc67e0aba6b61:getPixels\n",
            "Please wait ...\n",
            "Data downloaded to /content/drive/MyDrive/GEEML/X_113921.tif\n",
            "Data downloaded to /content/drive/MyDrive/GEEML/X_104250.tif\n",
            "Downloading data from https://earthengine-highvolume.googleapis.com/v1alpha/projects/earthengine-legacy/thumbnails/b8e7ad32fdcaa82eabf5b3900a4f365d-c24163fc94603f5fd8671355c845e90a:getPixels\n",
            "Please wait ...\n",
            "Downloading data from https://earthengine-highvolume.googleapis.com/v1alpha/projects/earthengine-legacy/thumbnails/740c436bb46359a3195f7916c6b37b28-1d7122e9f29e59de5149eb7cb9db906e:getPixels\n",
            "Please wait ...\n",
            "Data downloaded to /content/drive/MyDrive/GEEML/X_112680.tif\n",
            "Data downloaded to /content/drive/MyDrive/GEEML/X_10646.tif\n"
          ]
        }
      ]
    }
  ],
  "metadata": {
    "kernelspec": {
      "display_name": "main",
      "language": "python",
      "name": "main"
    },
    "language_info": {
      "codemirror_mode": {
        "name": "ipython",
        "version": 3
      },
      "file_extension": ".py",
      "mimetype": "text/x-python",
      "name": "python",
      "nbconvert_exporter": "python",
      "pygments_lexer": "ipython3",
      "version": "3.9.12"
    },
    "colab": {
      "name": "example.ipynb",
      "provenance": [],
      "include_colab_link": true
    },
    "widgets": {
      "application/vnd.jupyter.widget-state+json": {
        "51adc61ecb6046f9b64a808eac24411c": {
          "model_module": "jupyter-leaflet",
          "model_name": "LeafletMapModel",
          "model_module_version": "^0.16.0",
          "state": {
            "_dom_classes": [],
            "_model_module": "jupyter-leaflet",
            "_model_module_version": "^0.16.0",
            "_model_name": "LeafletMapModel",
            "_view_count": null,
            "_view_module": "jupyter-leaflet",
            "_view_module_version": "^0.16.0",
            "_view_name": "LeafletMapView",
            "bottom": 8484,
            "bounce_at_zoom_limits": true,
            "box_zoom": true,
            "center": [
              0.17630300553219058,
              37.908330385779365
            ],
            "close_popup_on_click": true,
            "controls": [
              "IPY_MODEL_2c20cc2bc0474d7db568e3e33216c695",
              "IPY_MODEL_26504ee006984a68a374204e2d105d93",
              "IPY_MODEL_aca8d971abdf41f1b50982fe147d4494",
              "IPY_MODEL_3b4c8c7754b045e29c3434276e85a770",
              "IPY_MODEL_865f1d95df5d41f1aa6d3127d858209c",
              "IPY_MODEL_a42b7feb8cf74cc286b0fabb5884ad0e",
              "IPY_MODEL_c582033886704fd6ad082621955167c0",
              "IPY_MODEL_f37887670d494560b13c0f1411a630fd"
            ],
            "crs": {
              "name": "EPSG3857",
              "custom": false
            },
            "default_style": "IPY_MODEL_8855e02feb6b4f409399543b12a34f75",
            "double_click_zoom": true,
            "dragging": true,
            "dragging_style": "IPY_MODEL_4d65de18c4064f489fc9b29e75cff6ef",
            "east": 50.69091796875001,
            "fullscreen": false,
            "inertia": true,
            "inertia_deceleration": 3000,
            "inertia_max_speed": 1500,
            "interpolation": "bilinear",
            "keyboard": true,
            "keyboard_pan_offset": 80,
            "keyboard_zoom_offset": 1,
            "layers": [
              "IPY_MODEL_35481332ae7c42b798e497ef5d7862fa",
              "IPY_MODEL_3e38580aa0bb4ee89c468077c45cab22",
              "IPY_MODEL_e49d859dc9f44439b1f9d8a1f975e5b3"
            ],
            "layout": "IPY_MODEL_a1beb93a3ac24280ad8e7d1f6bc5ec5b",
            "left": 9336,
            "max_zoom": 24,
            "min_zoom": 1,
            "modisdate": "2022-06-21",
            "north": 6.751896464843375,
            "options": [
              "bounce_at_zoom_limits",
              "box_zoom",
              "center",
              "close_popup_on_click",
              "double_click_zoom",
              "dragging",
              "fullscreen",
              "inertia",
              "inertia_deceleration",
              "inertia_max_speed",
              "interpolation",
              "keyboard",
              "keyboard_pan_offset",
              "keyboard_zoom_offset",
              "max_zoom",
              "min_zoom",
              "prefer_canvas",
              "scroll_wheel_zoom",
              "tap",
              "tap_tolerance",
              "touch_zoom",
              "world_copy_jump",
              "zoom",
              "zoom_animation_threshold",
              "zoom_delta",
              "zoom_snap",
              "zoom_start"
            ],
            "prefer_canvas": false,
            "right": 10499,
            "scroll_wheel_zoom": true,
            "south": -6.402648405963884,
            "style": "IPY_MODEL_4d65de18c4064f489fc9b29e75cff6ef",
            "tap": true,
            "tap_tolerance": 15,
            "top": 7884,
            "touch_zoom": true,
            "west": 25.136718750000004,
            "window_url": "https://esncq0vcumv-496ff2e9c6d22116-0-colab.googleusercontent.com/outputframe.html?vrz=colab-20220617-060044-RC00_455586112",
            "world_copy_jump": false,
            "zoom": 6,
            "zoom_animation_threshold": 4,
            "zoom_delta": 1,
            "zoom_snap": 1,
            "zoom_start": 12,
            "_dragging": false
          }
        },
        "2c20cc2bc0474d7db568e3e33216c695": {
          "model_module": "jupyter-leaflet",
          "model_name": "LeafletWidgetControlModel",
          "model_module_version": "^0.16.0",
          "state": {
            "_model_module": "jupyter-leaflet",
            "_model_module_version": "^0.16.0",
            "_model_name": "LeafletWidgetControlModel",
            "_view_count": null,
            "_view_module": "jupyter-leaflet",
            "_view_module_version": "^0.16.0",
            "_view_name": "LeafletWidgetControlView",
            "max_height": null,
            "max_width": null,
            "min_height": null,
            "min_width": null,
            "options": [
              "position",
              "transparent_bg"
            ],
            "position": "topleft",
            "transparent_bg": false,
            "widget": "IPY_MODEL_3d16a867c1c94eada885e702c66fcc90"
          }
        },
        "26504ee006984a68a374204e2d105d93": {
          "model_module": "jupyter-leaflet",
          "model_name": "LeafletZoomControlModel",
          "model_module_version": "^0.16.0",
          "state": {
            "_model_module": "jupyter-leaflet",
            "_model_module_version": "^0.16.0",
            "_model_name": "LeafletZoomControlModel",
            "_view_count": null,
            "_view_module": "jupyter-leaflet",
            "_view_module_version": "^0.16.0",
            "_view_name": "LeafletZoomControlView",
            "options": [
              "position",
              "zoom_in_text",
              "zoom_in_title",
              "zoom_out_text",
              "zoom_out_title"
            ],
            "position": "topleft",
            "zoom_in_text": "+",
            "zoom_in_title": "Zoom in",
            "zoom_out_text": "-",
            "zoom_out_title": "Zoom out"
          }
        },
        "aca8d971abdf41f1b50982fe147d4494": {
          "model_module": "jupyter-leaflet",
          "model_name": "LeafletScaleControlModel",
          "model_module_version": "^0.16.0",
          "state": {
            "_model_module": "jupyter-leaflet",
            "_model_module_version": "^0.16.0",
            "_model_name": "LeafletScaleControlModel",
            "_view_count": null,
            "_view_module": "jupyter-leaflet",
            "_view_module_version": "^0.16.0",
            "_view_name": "LeafletScaleControlView",
            "imperial": true,
            "max_width": 100,
            "metric": true,
            "options": [
              "imperial",
              "max_width",
              "metric",
              "position",
              "update_when_idle"
            ],
            "position": "bottomleft",
            "update_when_idle": false
          }
        },
        "3b4c8c7754b045e29c3434276e85a770": {
          "model_module": "jupyter-leaflet",
          "model_name": "LeafletFullScreenControlModel",
          "model_module_version": "^0.16.0",
          "state": {
            "_model_module": "jupyter-leaflet",
            "_model_module_version": "^0.16.0",
            "_model_name": "LeafletFullScreenControlModel",
            "_view_count": null,
            "_view_module": "jupyter-leaflet",
            "_view_module_version": "^0.16.0",
            "_view_name": "LeafletFullScreenControlView",
            "options": [
              "position"
            ],
            "position": "topleft"
          }
        },
        "865f1d95df5d41f1aa6d3127d858209c": {
          "model_module": "jupyter-leaflet",
          "model_name": "LeafletMeasureControlModel",
          "model_module_version": "^0.16.0",
          "state": {
            "_custom_units": {},
            "_model_module": "jupyter-leaflet",
            "_model_module_version": "^0.16.0",
            "_model_name": "LeafletMeasureControlModel",
            "_view_count": null,
            "_view_module": "jupyter-leaflet",
            "_view_module_version": "^0.16.0",
            "_view_name": "LeafletMeasureControlView",
            "active_color": "orange",
            "capture_z_index": 10000,
            "completed_color": "#C8F2BE",
            "options": [
              "active_color",
              "capture_z_index",
              "completed_color",
              "popup_options",
              "position",
              "primary_area_unit",
              "primary_length_unit",
              "secondary_area_unit",
              "secondary_length_unit"
            ],
            "popup_options": {
              "className": "leaflet-measure-resultpopup",
              "autoPanPadding": [
                10,
                10
              ]
            },
            "position": "bottomleft",
            "primary_area_unit": "acres",
            "primary_length_unit": "kilometers",
            "secondary_area_unit": null,
            "secondary_length_unit": null
          }
        },
        "a42b7feb8cf74cc286b0fabb5884ad0e": {
          "model_module": "jupyter-leaflet",
          "model_name": "LeafletAttributionControlModel",
          "model_module_version": "^0.16.0",
          "state": {
            "_model_module": "jupyter-leaflet",
            "_model_module_version": "^0.16.0",
            "_model_name": "LeafletAttributionControlModel",
            "_view_count": null,
            "_view_module": "jupyter-leaflet",
            "_view_module_version": "^0.16.0",
            "_view_name": "LeafletAttributionControlView",
            "options": [
              "position",
              "prefix"
            ],
            "position": "bottomright",
            "prefix": "ipyleaflet"
          }
        },
        "c582033886704fd6ad082621955167c0": {
          "model_module": "jupyter-leaflet",
          "model_name": "LeafletDrawControlModel",
          "model_module_version": "^0.16.0",
          "state": {
            "_model_module": "jupyter-leaflet",
            "_model_module_version": "^0.16.0",
            "_model_name": "LeafletDrawControlModel",
            "_view_count": null,
            "_view_module": "jupyter-leaflet",
            "_view_module_version": "^0.16.0",
            "_view_name": "LeafletDrawControlView",
            "circle": {
              "shapeOptions": {
                "color": "#3388ff"
              }
            },
            "circlemarker": {},
            "data": [],
            "edit": true,
            "marker": {
              "shapeOptions": {
                "color": "#3388ff"
              }
            },
            "options": [
              "position"
            ],
            "polygon": {
              "shapeOptions": {}
            },
            "polyline": {
              "shapeOptions": {}
            },
            "position": "topleft",
            "rectangle": {
              "shapeOptions": {
                "color": "#3388ff"
              }
            },
            "remove": true
          }
        },
        "f37887670d494560b13c0f1411a630fd": {
          "model_module": "jupyter-leaflet",
          "model_name": "LeafletWidgetControlModel",
          "model_module_version": "^0.16.0",
          "state": {
            "_model_module": "jupyter-leaflet",
            "_model_module_version": "^0.16.0",
            "_model_name": "LeafletWidgetControlModel",
            "_view_count": null,
            "_view_module": "jupyter-leaflet",
            "_view_module_version": "^0.16.0",
            "_view_name": "LeafletWidgetControlView",
            "max_height": null,
            "max_width": null,
            "min_height": null,
            "min_width": null,
            "options": [
              "position",
              "transparent_bg"
            ],
            "position": "topright",
            "transparent_bg": false,
            "widget": "IPY_MODEL_2ce2e05b8229447aa35c05d066a553ae"
          }
        },
        "8855e02feb6b4f409399543b12a34f75": {
          "model_module": "jupyter-leaflet",
          "model_name": "LeafletMapStyleModel",
          "model_module_version": "^0.16.0",
          "state": {
            "_model_module": "jupyter-leaflet",
            "_model_module_version": "^0.16.0",
            "_model_name": "LeafletMapStyleModel",
            "_view_count": null,
            "_view_module": "@jupyter-widgets/base",
            "_view_module_version": "1.2.0",
            "_view_name": "StyleView",
            "cursor": "grab"
          }
        },
        "4d65de18c4064f489fc9b29e75cff6ef": {
          "model_module": "jupyter-leaflet",
          "model_name": "LeafletMapStyleModel",
          "model_module_version": "^0.16.0",
          "state": {
            "_model_module": "jupyter-leaflet",
            "_model_module_version": "^0.16.0",
            "_model_name": "LeafletMapStyleModel",
            "_view_count": null,
            "_view_module": "@jupyter-widgets/base",
            "_view_module_version": "1.2.0",
            "_view_name": "StyleView",
            "cursor": "move"
          }
        },
        "35481332ae7c42b798e497ef5d7862fa": {
          "model_module": "jupyter-leaflet",
          "model_name": "LeafletTileLayerModel",
          "model_module_version": "^0.16.0",
          "state": {
            "_model_module": "jupyter-leaflet",
            "_model_module_version": "^0.16.0",
            "_model_name": "LeafletTileLayerModel",
            "_view_count": null,
            "_view_module": "jupyter-leaflet",
            "_view_module_version": "^0.16.0",
            "_view_name": "LeafletTileLayerView",
            "attribution": "&copy; <a href=\"https://www.openstreetmap.org/copyright\">OpenStreetMap</a> contributors",
            "base": true,
            "bottom": true,
            "bounds": null,
            "detect_retina": false,
            "loading": false,
            "max_native_zoom": 18,
            "max_zoom": 19,
            "min_native_zoom": 0,
            "min_zoom": 1,
            "name": "OpenStreetMap.Mapnik",
            "no_wrap": false,
            "opacity": 1,
            "options": [
              "attribution",
              "bounds",
              "detect_retina",
              "max_native_zoom",
              "max_zoom",
              "min_native_zoom",
              "min_zoom",
              "no_wrap",
              "tile_size",
              "tms"
            ],
            "popup": null,
            "popup_max_height": null,
            "popup_max_width": 300,
            "popup_min_width": 50,
            "show_loading": false,
            "tile_size": 256,
            "tms": false,
            "url": "https://a.tile.openstreetmap.org/{z}/{x}/{y}.png",
            "visible": true
          }
        },
        "3e38580aa0bb4ee89c468077c45cab22": {
          "model_module": "jupyter-leaflet",
          "model_name": "LeafletTileLayerModel",
          "model_module_version": "^0.16.0",
          "state": {
            "_model_module": "jupyter-leaflet",
            "_model_module_version": "^0.16.0",
            "_model_name": "LeafletTileLayerModel",
            "_view_count": null,
            "_view_module": "jupyter-leaflet",
            "_view_module_version": "^0.16.0",
            "_view_name": "LeafletTileLayerView",
            "attribution": "Google",
            "base": false,
            "bottom": true,
            "bounds": null,
            "detect_retina": false,
            "loading": false,
            "max_native_zoom": 18,
            "max_zoom": 22,
            "min_native_zoom": 0,
            "min_zoom": 0,
            "name": "Google Maps",
            "no_wrap": false,
            "opacity": 1,
            "options": [
              "attribution",
              "bounds",
              "detect_retina",
              "max_native_zoom",
              "max_zoom",
              "min_native_zoom",
              "min_zoom",
              "no_wrap",
              "tile_size",
              "tms"
            ],
            "popup": null,
            "popup_max_height": null,
            "popup_max_width": 300,
            "popup_min_width": 50,
            "show_loading": false,
            "tile_size": 256,
            "tms": false,
            "url": "https://mt1.google.com/vt/lyrs=m&x={x}&y={y}&z={z}",
            "visible": true
          }
        },
        "e49d859dc9f44439b1f9d8a1f975e5b3": {
          "model_module": "jupyter-leaflet",
          "model_name": "LeafletTileLayerModel",
          "model_module_version": "^0.16.0",
          "state": {
            "_model_module": "jupyter-leaflet",
            "_model_module_version": "^0.16.0",
            "_model_name": "LeafletTileLayerModel",
            "_view_count": null,
            "_view_module": "jupyter-leaflet",
            "_view_module_version": "^0.16.0",
            "_view_name": "LeafletTileLayerView",
            "attribution": "Google Earth Engine",
            "base": false,
            "bottom": true,
            "bounds": null,
            "detect_retina": false,
            "loading": false,
            "max_native_zoom": 18,
            "max_zoom": 24,
            "min_native_zoom": 0,
            "min_zoom": 0,
            "name": "Layer 3",
            "no_wrap": false,
            "opacity": 1,
            "options": [
              "attribution",
              "bounds",
              "detect_retina",
              "max_native_zoom",
              "max_zoom",
              "min_native_zoom",
              "min_zoom",
              "no_wrap",
              "tile_size",
              "tms"
            ],
            "popup": null,
            "popup_max_height": null,
            "popup_max_width": 300,
            "popup_min_width": 50,
            "show_loading": false,
            "tile_size": 256,
            "tms": false,
            "url": "https://earthengine-highvolume.googleapis.com/v1alpha/projects/earthengine-legacy/maps/10fef450335a0db103def398ce98c111-3966a23ab055792298a7479e3c4b40b5/tiles/{z}/{x}/{y}",
            "visible": true
          }
        },
        "a1beb93a3ac24280ad8e7d1f6bc5ec5b": {
          "model_module": "@jupyter-widgets/base",
          "model_name": "LayoutModel",
          "model_module_version": "1.2.0",
          "state": {
            "_model_module": "@jupyter-widgets/base",
            "_model_module_version": "1.2.0",
            "_model_name": "LayoutModel",
            "_view_count": null,
            "_view_module": "@jupyter-widgets/base",
            "_view_module_version": "1.2.0",
            "_view_name": "LayoutView",
            "align_content": null,
            "align_items": null,
            "align_self": null,
            "border": null,
            "bottom": null,
            "display": null,
            "flex": null,
            "flex_flow": null,
            "grid_area": null,
            "grid_auto_columns": null,
            "grid_auto_flow": null,
            "grid_auto_rows": null,
            "grid_column": null,
            "grid_gap": null,
            "grid_row": null,
            "grid_template_areas": null,
            "grid_template_columns": null,
            "grid_template_rows": null,
            "height": "600px",
            "justify_content": null,
            "justify_items": null,
            "left": null,
            "margin": null,
            "max_height": null,
            "max_width": null,
            "min_height": null,
            "min_width": null,
            "object_fit": null,
            "object_position": null,
            "order": null,
            "overflow": null,
            "overflow_x": null,
            "overflow_y": null,
            "padding": null,
            "right": null,
            "top": null,
            "visibility": null,
            "width": null
          }
        },
        "940d15a863c347409e0a854477510f61": {
          "model_module": "jupyter-leaflet",
          "model_name": "LeafletMapStyleModel",
          "model_module_version": "^0.16.0",
          "state": {
            "_model_module": "jupyter-leaflet",
            "_model_module_version": "^0.16.0",
            "_model_name": "LeafletMapStyleModel",
            "_view_count": null,
            "_view_module": "@jupyter-widgets/base",
            "_view_module_version": "1.2.0",
            "_view_name": "StyleView",
            "cursor": "grab"
          }
        },
        "3d16a867c1c94eada885e702c66fcc90": {
          "model_module": "@jupyter-widgets/controls",
          "model_name": "HBoxModel",
          "model_module_version": "1.5.0",
          "state": {
            "_dom_classes": [],
            "_model_module": "@jupyter-widgets/controls",
            "_model_module_version": "1.5.0",
            "_model_name": "HBoxModel",
            "_view_count": null,
            "_view_module": "@jupyter-widgets/controls",
            "_view_module_version": "1.5.0",
            "_view_name": "HBoxView",
            "box_style": "",
            "children": [
              "IPY_MODEL_f770905240a242f99bec514a2e137e8a"
            ],
            "layout": "IPY_MODEL_3010950f46224908bacdc90a52d53f66"
          }
        },
        "2ce2e05b8229447aa35c05d066a553ae": {
          "model_module": "@jupyter-widgets/controls",
          "model_name": "VBoxModel",
          "model_module_version": "1.5.0",
          "state": {
            "_dom_classes": [],
            "_model_module": "@jupyter-widgets/controls",
            "_model_module_version": "1.5.0",
            "_model_name": "VBoxModel",
            "_view_count": null,
            "_view_module": "@jupyter-widgets/controls",
            "_view_module_version": "1.5.0",
            "_view_name": "VBoxView",
            "box_style": "",
            "children": [
              "IPY_MODEL_5aa88c6adf034298b3da9795bc4bd5aa"
            ],
            "layout": "IPY_MODEL_2cabeb5b40b246d4b5fa34188fec18dd"
          }
        },
        "f770905240a242f99bec514a2e137e8a": {
          "model_module": "@jupyter-widgets/controls",
          "model_name": "ToggleButtonModel",
          "model_module_version": "1.5.0",
          "state": {
            "_dom_classes": [],
            "_model_module": "@jupyter-widgets/controls",
            "_model_module_version": "1.5.0",
            "_model_name": "ToggleButtonModel",
            "_view_count": null,
            "_view_module": "@jupyter-widgets/controls",
            "_view_module_version": "1.5.0",
            "_view_name": "ToggleButtonView",
            "button_style": "",
            "description": "",
            "description_tooltip": null,
            "disabled": false,
            "icon": "globe",
            "layout": "IPY_MODEL_37272ddc887a405b8884f01185af0538",
            "style": "IPY_MODEL_56216d71fc6d41df85d53467d94cf55f",
            "tooltip": "Search location/data",
            "value": false
          }
        },
        "3010950f46224908bacdc90a52d53f66": {
          "model_module": "@jupyter-widgets/base",
          "model_name": "LayoutModel",
          "model_module_version": "1.2.0",
          "state": {
            "_model_module": "@jupyter-widgets/base",
            "_model_module_version": "1.2.0",
            "_model_name": "LayoutModel",
            "_view_count": null,
            "_view_module": "@jupyter-widgets/base",
            "_view_module_version": "1.2.0",
            "_view_name": "LayoutView",
            "align_content": null,
            "align_items": null,
            "align_self": null,
            "border": null,
            "bottom": null,
            "display": null,
            "flex": null,
            "flex_flow": null,
            "grid_area": null,
            "grid_auto_columns": null,
            "grid_auto_flow": null,
            "grid_auto_rows": null,
            "grid_column": null,
            "grid_gap": null,
            "grid_row": null,
            "grid_template_areas": null,
            "grid_template_columns": null,
            "grid_template_rows": null,
            "height": null,
            "justify_content": null,
            "justify_items": null,
            "left": null,
            "margin": null,
            "max_height": null,
            "max_width": null,
            "min_height": null,
            "min_width": null,
            "object_fit": null,
            "object_position": null,
            "order": null,
            "overflow": null,
            "overflow_x": null,
            "overflow_y": null,
            "padding": null,
            "right": null,
            "top": null,
            "visibility": null,
            "width": null
          }
        },
        "5aa88c6adf034298b3da9795bc4bd5aa": {
          "model_module": "@jupyter-widgets/controls",
          "model_name": "ToggleButtonModel",
          "model_module_version": "1.5.0",
          "state": {
            "_dom_classes": [],
            "_model_module": "@jupyter-widgets/controls",
            "_model_module_version": "1.5.0",
            "_model_name": "ToggleButtonModel",
            "_view_count": null,
            "_view_module": "@jupyter-widgets/controls",
            "_view_module_version": "1.5.0",
            "_view_name": "ToggleButtonView",
            "button_style": "",
            "description": "",
            "description_tooltip": null,
            "disabled": false,
            "icon": "wrench",
            "layout": "IPY_MODEL_e5a92516c0054d20ab2f0a448113e3f1",
            "style": "IPY_MODEL_80f7c346795044b7ac85cdce4265ba27",
            "tooltip": "Toolbar",
            "value": false
          }
        },
        "2cabeb5b40b246d4b5fa34188fec18dd": {
          "model_module": "@jupyter-widgets/base",
          "model_name": "LayoutModel",
          "model_module_version": "1.2.0",
          "state": {
            "_model_module": "@jupyter-widgets/base",
            "_model_module_version": "1.2.0",
            "_model_name": "LayoutModel",
            "_view_count": null,
            "_view_module": "@jupyter-widgets/base",
            "_view_module_version": "1.2.0",
            "_view_name": "LayoutView",
            "align_content": null,
            "align_items": null,
            "align_self": null,
            "border": null,
            "bottom": null,
            "display": null,
            "flex": null,
            "flex_flow": null,
            "grid_area": null,
            "grid_auto_columns": null,
            "grid_auto_flow": null,
            "grid_auto_rows": null,
            "grid_column": null,
            "grid_gap": null,
            "grid_row": null,
            "grid_template_areas": null,
            "grid_template_columns": null,
            "grid_template_rows": null,
            "height": null,
            "justify_content": null,
            "justify_items": null,
            "left": null,
            "margin": null,
            "max_height": null,
            "max_width": null,
            "min_height": null,
            "min_width": null,
            "object_fit": null,
            "object_position": null,
            "order": null,
            "overflow": null,
            "overflow_x": null,
            "overflow_y": null,
            "padding": null,
            "right": null,
            "top": null,
            "visibility": null,
            "width": null
          }
        },
        "37272ddc887a405b8884f01185af0538": {
          "model_module": "@jupyter-widgets/base",
          "model_name": "LayoutModel",
          "model_module_version": "1.2.0",
          "state": {
            "_model_module": "@jupyter-widgets/base",
            "_model_module_version": "1.2.0",
            "_model_name": "LayoutModel",
            "_view_count": null,
            "_view_module": "@jupyter-widgets/base",
            "_view_module_version": "1.2.0",
            "_view_name": "LayoutView",
            "align_content": null,
            "align_items": null,
            "align_self": null,
            "border": null,
            "bottom": null,
            "display": null,
            "flex": null,
            "flex_flow": null,
            "grid_area": null,
            "grid_auto_columns": null,
            "grid_auto_flow": null,
            "grid_auto_rows": null,
            "grid_column": null,
            "grid_gap": null,
            "grid_row": null,
            "grid_template_areas": null,
            "grid_template_columns": null,
            "grid_template_rows": null,
            "height": "28px",
            "justify_content": null,
            "justify_items": null,
            "left": null,
            "margin": null,
            "max_height": null,
            "max_width": null,
            "min_height": null,
            "min_width": null,
            "object_fit": null,
            "object_position": null,
            "order": null,
            "overflow": null,
            "overflow_x": null,
            "overflow_y": null,
            "padding": "0px 0px 0px 4px",
            "right": null,
            "top": null,
            "visibility": null,
            "width": "28px"
          }
        },
        "56216d71fc6d41df85d53467d94cf55f": {
          "model_module": "@jupyter-widgets/controls",
          "model_name": "DescriptionStyleModel",
          "model_module_version": "1.5.0",
          "state": {
            "_model_module": "@jupyter-widgets/controls",
            "_model_module_version": "1.5.0",
            "_model_name": "DescriptionStyleModel",
            "_view_count": null,
            "_view_module": "@jupyter-widgets/base",
            "_view_module_version": "1.2.0",
            "_view_name": "StyleView",
            "description_width": ""
          }
        },
        "e5a92516c0054d20ab2f0a448113e3f1": {
          "model_module": "@jupyter-widgets/base",
          "model_name": "LayoutModel",
          "model_module_version": "1.2.0",
          "state": {
            "_model_module": "@jupyter-widgets/base",
            "_model_module_version": "1.2.0",
            "_model_name": "LayoutModel",
            "_view_count": null,
            "_view_module": "@jupyter-widgets/base",
            "_view_module_version": "1.2.0",
            "_view_name": "LayoutView",
            "align_content": null,
            "align_items": null,
            "align_self": null,
            "border": null,
            "bottom": null,
            "display": null,
            "flex": null,
            "flex_flow": null,
            "grid_area": null,
            "grid_auto_columns": null,
            "grid_auto_flow": null,
            "grid_auto_rows": null,
            "grid_column": null,
            "grid_gap": null,
            "grid_row": null,
            "grid_template_areas": null,
            "grid_template_columns": null,
            "grid_template_rows": null,
            "height": "28px",
            "justify_content": null,
            "justify_items": null,
            "left": null,
            "margin": null,
            "max_height": null,
            "max_width": null,
            "min_height": null,
            "min_width": null,
            "object_fit": null,
            "object_position": null,
            "order": null,
            "overflow": null,
            "overflow_x": null,
            "overflow_y": null,
            "padding": "0px 0px 0px 4px",
            "right": null,
            "top": null,
            "visibility": null,
            "width": "28px"
          }
        },
        "80f7c346795044b7ac85cdce4265ba27": {
          "model_module": "@jupyter-widgets/controls",
          "model_name": "DescriptionStyleModel",
          "model_module_version": "1.5.0",
          "state": {
            "_model_module": "@jupyter-widgets/controls",
            "_model_module_version": "1.5.0",
            "_model_name": "DescriptionStyleModel",
            "_view_count": null,
            "_view_module": "@jupyter-widgets/base",
            "_view_module_version": "1.2.0",
            "_view_name": "StyleView",
            "description_width": ""
          }
        }
      }
    }
  },
  "nbformat": 4,
  "nbformat_minor": 0
}