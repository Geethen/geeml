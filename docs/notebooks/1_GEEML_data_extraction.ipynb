{
 "cells": [
  {
   "cell_type": "code",
   "execution_count": 1,
   "id": "913fae59-97c9-43a2-bdd8-10e4a49f17af",
   "metadata": {},
   "outputs": [],
   "source": [
    "# import earth engine and intialise high volume end-point\n",
    "import ee\n",
    "# ee.Authenticate() # you may need to authenticate\n",
    "ee.Initialize(opt_url='https://earthengine-highvolume.googleapis.com')"
   ]
  },
  {
   "cell_type": "code",
   "execution_count": 3,
   "id": "6bd5177c-df3f-4d73-a37c-953c3fc9110c",
   "metadata": {},
   "outputs": [],
   "source": [
    "import os\n",
    "import sys\n",
    "import glob\n",
    "\n",
    "import csv\n",
    "import geedim\n",
    "import geemap\n",
    "\n",
    "from geeml.utils import eeprint, getCountry\n",
    "from geeml.extract import extractor"
   ]
  },
  {
   "cell_type": "code",
   "execution_count": 4,
   "id": "8c18730e-ddeb-4f7e-b4f2-0acff0f71c01",
   "metadata": {},
   "outputs": [
    {
     "name": "stdout",
     "output_type": "stream",
     "text": [
      "Last updated: 2022-06-29T15:56:50.037466+02:00\n",
      "\n",
      "Python implementation: CPython\n",
      "Python version       : 3.9.12\n",
      "IPython version      : 8.4.0\n",
      "\n",
      "Compiler    : MSC v.1929 64 bit (AMD64)\n",
      "OS          : Windows\n",
      "Release     : 10\n",
      "Machine     : AMD64\n",
      "Processor   : Intel64 Family 6 Model 158 Stepping 10, GenuineIntel\n",
      "CPU cores   : 12\n",
      "Architecture: 64bit\n",
      "\n",
      "geemap: 0.13.4\n",
      "ee    : 0.2\n",
      "sys   : 3.9.12 | packaged by conda-forge | (main, Mar 24 2022, 23:17:03) [MSC v.1929 64 bit (AMD64)]\n",
      "geedim: 1.2.0\n",
      "csv   : 1.0\n",
      "\n"
     ]
    }
   ],
   "source": [
    "%load_ext watermark\n",
    "%watermark\n",
    "%watermark --iversions"
   ]
  },
  {
   "cell_type": "markdown",
   "id": "03769482-aa5d-4f41-bad1-45116bf63874",
   "metadata": {},
   "source": [
    "#### Extract NASADEM for AOI (Kenya)"
   ]
  },
  {
   "cell_type": "code",
   "execution_count": 6,
   "id": "70ef0850-118c-4df8-ad22-7948599b425b",
   "metadata": {},
   "outputs": [],
   "source": [
    "#import datasets from GEE\n",
    "# A multiband image\n",
    "nasadem = ee.Image(\"NASA/NASADEM_HGT/001\")\n",
    "\n",
    "# Get Kenya administrative boundary using a point in Kenya\n",
    "poi = ee.Geometry.Point([37.857884,-0.002197])\n",
    "kenya = getCountry(poi)\n",
    "\n",
    "# Set download directory\n",
    "dd = r'D:\\Scratch'"
   ]
  },
  {
   "cell_type": "code",
   "execution_count": 9,
   "id": "3c9b8547-7934-41a0-ae2d-67584893badc",
   "metadata": {},
   "outputs": [
    {
     "name": "stderr",
     "output_type": "stream",
     "text": [
      "Consider adjusting `region`, `scale` and/or `dtype` to reduce the X.tif download size (raw: 1.16 GB).\n"
     ]
    },
    {
     "data": {
      "application/vnd.jupyter.widget-view+json": {
       "model_id": "d61cf19ea9394a6bbce83f6d64a05b05",
       "version_major": 2,
       "version_minor": 0
      },
      "text/plain": [
       "X.tif: |                                                              | 0.00/1.16G (raw) [  0.0%] in 00:00 (et…"
      ]
     },
     "metadata": {},
     "output_type": "display_data"
    },
    {
     "name": "stderr",
     "output_type": "stream",
     "text": [
      "There is no STAC entry for: None\n"
     ]
    }
   ],
   "source": [
    "AOIExtractor = extractor(nasadem, aoi= kenya, dd=dd, scale =100)\n",
    "AOIExtractor.extractAoi()"
   ]
  },
  {
   "cell_type": "markdown",
   "id": "f548179b-a6c7-468b-a6ef-cc7180bdee01",
   "metadata": {},
   "source": [
    "#### Extract data at randomly generated points within an AOI (Kenya)"
   ]
  },
  {
   "cell_type": "code",
   "execution_count": 7,
   "id": "17db5cfc-d2e5-4696-9f92-260bb0470f9a",
   "metadata": {},
   "outputs": [
    {
     "name": "stdout",
     "output_type": "stream",
     "text": [
      "Extracting data for task 1 with 10000 point(s)\n"
     ]
    }
   ],
   "source": [
    "# Extract data at random points\n",
    "target = ee.FeatureCollection.randomPoints(kenya, 10000, 123, 5)\n",
    "# Initialise Extractor\n",
    "randomPointExtractor = extractor(nasadem, target = target, aoi= kenya, dd=dd, scale =100)\n",
    "randomPointExtractor.extractPoints(batchSize= 10000)"
   ]
  }
 ],
 "metadata": {
  "kernelspec": {
   "display_name": "main",
   "language": "python",
   "name": "main"
  },
  "language_info": {
   "codemirror_mode": {
    "name": "ipython",
    "version": 3
   },
   "file_extension": ".py",
   "mimetype": "text/x-python",
   "name": "python",
   "nbconvert_exporter": "python",
   "pygments_lexer": "ipython3",
   "version": "3.9.12"
  }
 },
 "nbformat": 4,
 "nbformat_minor": 5
}
