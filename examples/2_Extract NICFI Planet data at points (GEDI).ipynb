{
 "cells": [
  {
   "cell_type": "code",
   "execution_count": 1,
   "id": "913fae59-97c9-43a2-bdd8-10e4a49f17af",
   "metadata": {},
   "outputs": [],
   "source": [
    "# import earth engine and intialise high volume end-point\n",
    "import ee\n",
    "# ee.Authenticate() # you may need to authenticate\n",
    "ee.Initialize(opt_url='https://earthengine-highvolume.googleapis.com')"
   ]
  },
  {
   "cell_type": "code",
   "execution_count": 2,
   "id": "6bd5177c-df3f-4d73-a37c-953c3fc9110c",
   "metadata": {},
   "outputs": [],
   "source": [
    "import os\n",
    "\n",
    "import csv\n",
    "import geedim\n",
    "import geemap\n",
    "\n",
    "from geeml.utils import eeprint, getCountry, createGrid\n",
    "from geeml.extract import extractor"
   ]
  },
  {
   "cell_type": "code",
   "execution_count": 3,
   "id": "8c18730e-ddeb-4f7e-b4f2-0acff0f71c01",
   "metadata": {},
   "outputs": [
    {
     "name": "stdout",
     "output_type": "stream",
     "text": [
      "Last updated: 2022-06-29T16:30:55.194517+02:00\n",
      "\n",
      "Python implementation: CPython\n",
      "Python version       : 3.9.12\n",
      "IPython version      : 8.4.0\n",
      "\n",
      "Compiler    : MSC v.1929 64 bit (AMD64)\n",
      "OS          : Windows\n",
      "Release     : 10\n",
      "Machine     : AMD64\n",
      "Processor   : Intel64 Family 6 Model 158 Stepping 10, GenuineIntel\n",
      "CPU cores   : 12\n",
      "Architecture: 64bit\n",
      "\n",
      "ee    : 0.2\n",
      "geemap: 0.13.4\n",
      "geedim: 1.2.0\n",
      "csv   : 1.0\n",
      "\n"
     ]
    }
   ],
   "source": [
    "%load_ext watermark\n",
    "%watermark\n",
    "%watermark --iversions"
   ]
  },
  {
   "cell_type": "markdown",
   "id": "03769482-aa5d-4f41-bad1-45116bf63874",
   "metadata": {},
   "source": [
    "#### Extract data for Sparse imagery (GEDI) and NICFI planet at intersecting points"
   ]
  },
  {
   "cell_type": "markdown",
   "id": "937bf2d4-3bad-4e0e-a17f-4ba1728af0c1",
   "metadata": {},
   "source": [
    "> Step 1: Import datasets\n",
    "\n",
    "> Step 2: Prepare data (filter, reduce)\n",
    "\n",
    "> Step 3: Extract data"
   ]
  },
  {
   "cell_type": "markdown",
   "id": "b506580d-c0f1-40b4-bac8-9525ab9ab9df",
   "metadata": {},
   "source": [
    "#### We convert the GEDI image to points and extract the Planet data at these corresponding points. We use the ESA Worldcover data to remove water, ice and urban areas."
   ]
  },
  {
   "cell_type": "markdown",
   "id": "aa42cc61-b542-4b2c-9535-9d3bf07c7e88",
   "metadata": {},
   "source": [
    "> Step 1: Import datasets"
   ]
  },
  {
   "cell_type": "code",
   "execution_count": 4,
   "id": "8acd58a4-e7f0-4878-8202-c115e406945e",
   "metadata": {},
   "outputs": [],
   "source": [
    "# Import data\n",
    "GEDI = ee.ImageCollection(\"LARSE/GEDI/GEDI02_A_002_MONTHLY\")\n",
    "planet = ee.ImageCollection(\"projects/planet-nicfi/assets/basemaps/africa\")\n",
    "landcover = ee.ImageCollection(\"ESA/WorldCover/v100\")\n",
    "\n",
    "# A point in Kenya\n",
    "poi = ee.Geometry.Point([37.857884,-0.002197])\n",
    "aoi = getCountry(poi)#kenya"
   ]
  },
  {
   "cell_type": "markdown",
   "id": "f0ad60c4-eb5f-4757-97dc-8170239945c5",
   "metadata": {},
   "source": [
    "> Step 2: Prepare data"
   ]
  },
  {
   "cell_type": "code",
   "execution_count": 5,
   "id": "70ef0850-118c-4df8-ad22-7948599b425b",
   "metadata": {},
   "outputs": [],
   "source": [
    "# Mask to remove buildings, snow/ice/ and open water\n",
    "lcmask = landcover.filterBounds(aoi).mosaic().eq([50, 70, 80]).reduce(ee.Reducer.max()).eq(0)\n",
    "\n",
    "# Filter GEDI data (remove low quality data)\n",
    "def qualityMask(img):\n",
    "    return img.updateMask(img.select('quality_flag').eq(1))\\\n",
    "          .updateMask(img.select('degrade_flag').eq(0))\\\n",
    "          .updateMask(lcmask)\n",
    "\n",
    "# Filter data (to aoi and apply qualityMask and select rh98 band)\n",
    "dataset = GEDI.filterBounds(aoi).map(qualityMask)\\\n",
    "                .select(['rh98']);\n",
    "\n",
    "# Set projection and scale\n",
    "projection = dataset.first().projection()\n",
    "scale = projection.nominalScale()\n",
    "\n",
    "mosaic = dataset.mosaic().setDefaultProjection(**{'crs':projection, 'scale':5}).clip(aoi);\n",
    "\n",
    "# Planet data- get percentiles across all monthly composite planet data\n",
    "monthlyPlanet = planet.filterBounds(aoi).filter(ee.Filter.eq('cadence','monthly'))\\\n",
    ".reduce(ee.Reducer.percentile([5,25,50,75,95])).clip(aoi)"
   ]
  },
  {
   "cell_type": "markdown",
   "id": "309f713e-9c83-4a0e-9bee-6e0a27189694",
   "metadata": {},
   "source": [
    "#### spcvGridSize defines a grid, in this case a 30 km by 30 km grid. This is useful for performing Spatial Cross validation"
   ]
  },
  {
   "cell_type": "code",
   "execution_count": null,
   "id": "17db5cfc-d2e5-4696-9f92-260bb0470f9a",
   "metadata": {},
   "outputs": [],
   "source": [
    "# Download directory\n",
    "dd = r'D:\\Scratch'\n",
    "\n",
    "# Initialise extractor\n",
    "gedi = extractor(covariates = monthlyPlanet, target = mosaic, aoi = aoi, scale = 5, dd=dd, spcvGridSize= 30000)\n",
    "\n",
    "# Extract data in batches of 30 000 points\n",
    "gedi.extractPoints(gridSize = 50000, batchSize = 30000, filename = 'height.csv')"
   ]
  },
  {
   "cell_type": "code",
   "execution_count": null,
   "id": "fae57d93-1e5a-4cb1-9b1d-7775973bba00",
   "metadata": {},
   "outputs": [],
   "source": []
  }
 ],
 "metadata": {
  "kernelspec": {
   "display_name": "Python 3.9.12 ('erty')",
   "language": "python",
   "name": "python3"
  },
  "language_info": {
   "codemirror_mode": {
    "name": "ipython",
    "version": 3
   },
   "file_extension": ".py",
   "mimetype": "text/x-python",
   "name": "python",
   "nbconvert_exporter": "python",
   "pygments_lexer": "ipython3",
   "version": "3.9.12"
  },
  "vscode": {
   "interpreter": {
    "hash": "c84b75295ce03c51a8839738c635c0bec49de2a09c7f7184535e156c86b95870"
   }
  }
 },
 "nbformat": 4,
 "nbformat_minor": 5
}
